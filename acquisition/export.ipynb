{
 "metadata": {
  "language_info": {
   "codemirror_mode": {
    "name": "ipython",
    "version": 3
   },
   "file_extension": ".py",
   "mimetype": "text/x-python",
   "name": "python",
   "nbconvert_exporter": "python",
   "pygments_lexer": "ipython3",
   "version": 3
  },
  "orig_nbformat": 2
 },
 "nbformat": 4,
 "nbformat_minor": 2,
 "cells": [
  {
   "cell_type": "code",
   "execution_count": null,
   "metadata": {},
   "outputs": [],
   "source": [
    "#Enable Google Drive\n",
    "#needs credentials.json if used for the first use or token.json if used for recurrent uses\n",
    "#import libraries\n",
    "import os.path\n",
    "from googleapiclient.discovery import build\n",
    "from google_auth_oauthlib.flow import InstalledAppFlow\n",
    "from google.auth.transport.requests import Request\n",
    "from google.oauth2.credentials import Credentials\n",
    "\n",
    "creds = None\n",
    "# The file token.json stores the user's access and refresh tokens, and is\n",
    "# created automatically when the authorization flow completes for the first\n",
    "# time.\n",
    "if os.path.exists('token.json'):\n",
    "    creds = Credentials.from_authorized_user_file('token.json',['https://www.googleapis.com/auth/drive'])\n",
    "# If there are no (valid) credentials available, let the user log in.\n",
    "if not creds or not creds.valid:\n",
    "    if creds and creds.expired and creds.refresh_token:\n",
    "        creds.refresh(Request())\n",
    "    else:\n",
    "        flow = InstalledAppFlow.from_client_secrets_file(\n",
    "            'credentials.json', ['https://www.googleapis.com/auth/drive'])\n",
    "        creds = flow.run_local_server(port=0)\n",
    "    # Save the credentials for the next run\n",
    "    with open('token.json', 'w') as token:\n",
    "        token.write(creds.to_json())\n",
    "\n",
    "service = build('drive', 'v3', credentials=creds)"
   ]
  },
  {
   "cell_type": "code",
   "execution_count": null,
   "metadata": {},
   "outputs": [],
   "source": [
    "def download_file(file_id, filename):\n",
    "    request = service.files().get_media(fileId=file_id)\n",
    "    fh = io.FileIO(filename, 'wb')\n",
    "    downloader = MediaIoBaseDownload(fh, request)\n",
    "    done = False\n",
    "    while done is False:\n",
    "        status, done = downloader.next_chunk()\n",
    "        print('Download done')"
   ]
  },
  {
   "cell_type": "code",
   "execution_count": null,
   "metadata": {},
   "outputs": [],
   "source": [
    "import io\n",
    "from googleapiclient.http import MediaIoBaseDownload\n",
    "# Call the Drive v3 API\n",
    "dirpath = '../data'\n",
    "os.makedirs(dirpath,exist_ok=True)\n",
    "while len([name for name in os.listdir(dirpath)]) != int(input(\"Länge des Dataframes: \")):\n",
    "    results = service.files().list(q=\"mimeType='image/tiff'\",spaces='drive',\n",
    "                                          fields='nextPageToken, files(id, name)',\n",
    "                                          pageToken=None).execute()\n",
    "    items = results.get('files', [])\n",
    "    for item in items:\n",
    "        file_id = item.get('id')\n",
    "        filename = item.get('name')\n",
    "        print(\"Download \" + str(filename))\n",
    "        download_file(item['id'], item['name'])\n",
    "        service.files().delete(fileId=file_id).execute()\n",
    "        os.replace(filename,dirpath + \"/\" + filename)\n",
    "        print(str(len([name for name in os.listdir(dirpath)]))+ \"/\" + str(len(df)))"
   ]
  }
 ]
}