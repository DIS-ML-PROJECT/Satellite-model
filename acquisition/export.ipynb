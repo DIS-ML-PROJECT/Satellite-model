{
 "metadata": {
  "language_info": {
   "codemirror_mode": {
    "name": "ipython",
    "version": 3
   },
   "file_extension": ".py",
   "mimetype": "text/x-python",
   "name": "python",
   "nbconvert_exporter": "python",
   "pygments_lexer": "ipython3",
   "version": 3
  },
  "orig_nbformat": 2
 },
 "nbformat": 4,
 "nbformat_minor": 2,
 "cells": [
  {
   "cell_type": "markdown",
   "source": [
    "# Export-Script\r\n",
    "<p>This Export Script uses the Google Apis to first download to a specific folder and the delete the files from google drive</p>"
   ],
   "metadata": {}
  },
  {
   "cell_type": "code",
   "execution_count": null,
   "source": [
    "#Enable Google Drive\r\n",
    "#needs credentials.json if used for the first use or token.json if used for recurrent uses\r\n",
    "#import libraries\r\n",
    "import os.path\r\n",
    "from googleapiclient.discovery import build\r\n",
    "from google_auth_oauthlib.flow import InstalledAppFlow\r\n",
    "from google.auth.transport.requests import Request\r\n",
    "from google.oauth2.credentials import Credentials\r\n",
    "\r\n",
    "creds = None\r\n",
    "# The file token.json stores the user's access and refresh tokens, and is\r\n",
    "# created automatically when the authorization flow completes for the first\r\n",
    "# time.\r\n",
    "if os.path.exists('token.json'):\r\n",
    "    creds = Credentials.from_authorized_user_file('token.json',['https://www.googleapis.com/auth/drive'])\r\n",
    "# If there are no (valid) credentials available, let the user log in.\r\n",
    "if not creds or not creds.valid:\r\n",
    "    if creds and creds.expired and creds.refresh_token:\r\n",
    "        creds.refresh(Request())\r\n",
    "    else:\r\n",
    "        flow = InstalledAppFlow.from_client_secrets_file(\r\n",
    "            'credentials.json', ['https://www.googleapis.com/auth/drive'])\r\n",
    "        creds = flow.run_local_server(port=0)\r\n",
    "    # Save the credentials for the next run\r\n",
    "    with open('token.json', 'w') as token:\r\n",
    "        token.write(creds.to_json())\r\n",
    "\r\n",
    "service = build('drive', 'v3', credentials=creds)"
   ],
   "outputs": [],
   "metadata": {}
  },
  {
   "cell_type": "code",
   "execution_count": null,
   "source": [
    "def download_file(file_id, filename):\r\n",
    "    \"\"\" this function is responsible for the download process of the script.\r\n",
    "\r\n",
    "    Args:\r\n",
    "        file_id (str): Unique Identifier set by Google to identify every File in Drive\r\n",
    "        filename (str): Filename of the File in Google Drive. The file is saved with the same filename\r\n",
    "    \"\"\"\r\n",
    "    request = service.files().get_media(fileId=file_id)\r\n",
    "    fh = io.FileIO(filename, 'wb')\r\n",
    "    downloader = MediaIoBaseDownload(fh, request)\r\n",
    "    done = False\r\n",
    "    while done is False:\r\n",
    "        status, done = downloader.next_chunk()\r\n",
    "        print('Download done')"
   ],
   "outputs": [],
   "metadata": {}
  },
  {
   "cell_type": "code",
   "execution_count": null,
   "source": [
    "import io\r\n",
    "from googleapiclient.http import MediaIoBaseDownload\r\n",
    "# Call the Drive v3 API\r\n",
    "dirpath = '../data'\r\n",
    "os.makedirs(dirpath,exist_ok=True)\r\n",
    "#Let the Script run as long as there are less Files downloaded than in total\r\n",
    "while len([name for name in os.listdir(dirpath)]) != int(input(\"Länge des Dataframes: \")):\r\n",
    "    #Get every File, which is an image with the fileending \"tiff\"\r\n",
    "    results = service.files().list(q=\"mimeType='image/tiff'\",spaces='drive',\r\n",
    "                                          fields='nextPageToken, files(id, name)',\r\n",
    "                                          pageToken=None).execute()\r\n",
    "    items = results.get('files', [])\r\n",
    "    #iterate over the names to download each one\r\n",
    "    for item in items:\r\n",
    "        #get the Unique Identifier from Google\r\n",
    "        file_id = item.get('id')\r\n",
    "        #get the Filename of the Item to locally save it with the same name\r\n",
    "        filename = item.get('name')\r\n",
    "        print(\"Download \" + str(filename))\r\n",
    "        #call the function to download the file and save it\r\n",
    "        download_file(item['id'], item['name'])\r\n",
    "        #Delete the File from Google Drive in total(Files in the Drive Trash still takes up space, so it is necessary to completely delete them)\r\n",
    "        service.files().delete(fileId=file_id).execute()\r\n",
    "        #because the files are in the wrong directory, we move them to the correct one\r\n",
    "        os.replace(filename,dirpath + \"/\" + filename)\r\n",
    "        print(str(len([name for name in os.listdir(dirpath)]))+ \"/\" + str(len(df)))"
   ],
   "outputs": [],
   "metadata": {}
  }
 ]
}