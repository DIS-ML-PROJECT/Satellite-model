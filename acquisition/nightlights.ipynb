{
 "metadata": {
  "language_info": {
   "codemirror_mode": {
    "name": "ipython",
    "version": 3
   },
   "file_extension": ".py",
   "mimetype": "text/x-python",
   "name": "python",
   "nbconvert_exporter": "python",
   "pygments_lexer": "ipython3",
   "version": "3.8.0"
  },
  "orig_nbformat": 2,
  "kernelspec": {
   "name": "python380jvsc74a57bd070d26f2264f7fe31f4c81ee0d745621efd984d696ceda4ad32e9609dbdcfd161",
   "display_name": "Python 3.8.0 64-bit"
  },
  "metadata": {
   "interpreter": {
    "hash": "70d26f2264f7fe31f4c81ee0d745621efd984d696ceda4ad32e9609dbdcfd161"
   }
  }
 },
 "nbformat": 4,
 "nbformat_minor": 2,
 "cells": [
  {
   "source": [
    "# Nightlight Satellite Image Export\n",
    "## Prerequisites\n",
    "### Input\n",
    "\n",
    "* CSV with 4 columns:\n",
    "    * ID\n",
    "    * year of survey\n",
    "    * Latitude-Coordinates\n",
    "    * Longitude-Coordinates\n",
    "\n",
    "### Execution\n",
    "#### main pipeline\n",
    "Should work like this:\n",
    "\n",
    "1. create a pandas dataframe with all the information and delete all unnecessary entries (in our case it is all entries who are from 2011 or earlier)\n",
    "2. creation of a range of year in string format (yyyy-mm-dd) instead a year in integer format\n",
    "3. create an image with the median\n",
    "4. get the areas of interest (AOI) with the Latitude and Longitude information in the dataframe\n",
    "5. export the image with predefined AOIs and dimensions\n",
    "    \n",
    "Google Documentary says 'To get a block of pixels of predefined size (for example a 256x256 thumbnail image) that covers a region, specify dimensions and region'"
   ],
   "cell_type": "markdown",
   "metadata": {}
  },
  {
   "cell_type": "code",
   "execution_count": null,
   "metadata": {},
   "outputs": [],
   "source": [
    "import ee\n",
    "import pandas as pd\n",
    "from typing import Tuple\n",
    "import utils\n",
    "import time\n",
    "import wget\n",
    "import zipfile"
   ]
  },
  {
   "cell_type": "code",
   "execution_count": null,
   "metadata": {},
   "outputs": [],
   "source": [
    "#ee.Authenticate()\n",
    "ee.Initialize()"
   ]
  },
  {
   "cell_type": "code",
   "execution_count": null,
   "metadata": {},
   "outputs": [],
   "source": [
    "#CONSTANTS\n",
    "#Path of CSV-File with columns ID,year,LATITUDE,LONGITUDE\n",
    "csvpath = '../dataResearch/firstSample.csv'\n",
    "#name all column names\n",
    "#year\n",
    "year = 'year'\n",
    "#Latitude and Longitude Coordinates\n",
    "LATNUM = 'LATNUM'\n",
    "LONGNUM= 'LONGNUM'\n",
    "#ID for Filenames\n",
    "surveyid = 'ID'\n",
    "#Export parameters\n",
    "DHS_EXPORT_FOLDER = 'geotiff_raw'\n",
    "# image export parameters\n",
    "PROJECTION = 'EPSG:3857'  # see https://epsg.io/3857\n",
    "#1100 pixel times 10m equals 11000mx11000m image\n",
    "SCALE = 10                # export resolution: 10m/px\n",
    "IMAGE_DIMENSION = 5500  #radius of the wanted image in m"
   ]
  },
  {
   "cell_type": "code",
   "execution_count": null,
   "metadata": {},
   "outputs": [],
   "source": [
    "#create Dataframe with pandas\n",
    "df = pd.read_csv(csvpath)\n",
    "#create Dataframe where year is 2012 or higher\n",
    "df = df[df.year >= 2012]\n",
    "for i in range(len(df)):\n",
    "    print(\"starting Task Nr: \" + str(i))\n",
    "    start_date,end_date = utils.surveyyear_to_range(df[year].iloc[i],satellitename='nl')\n",
    "    # get the VIIRS image collection, we're using the \"avg_rad\" band\n",
    "    dataset = ee.ImageCollection('NOAA/VIIRS/DNB/MONTHLY_V1/VCMCFG').filter(ee.Filter.date(start_date, end_date))\n",
    "    nighttime = dataset.select('avg_rad').median()\n",
    "    # get the coordinates based on the AOI\n",
    "    lat = float(df[LATNUM].iloc[i].replace(',', '.'))\n",
    "    lon = float(df[LONGNUM].iloc[i].replace(',', '.'))\n",
    "    aoi = ee.Geometry.Point(lon,lat)\n",
    "    coords = utils.point_to_box_coords(aoi=aoi,dimensionradius=IMAGE_DIMENSION)\n",
    "    name = df[surveyid].iloc[i]\n",
    "    task = ee.batch.Export.image.toDrive(image=nighttime,region=coords,folder=DHS_EXPORT_FOLDER,fileNamePrefix=name,scale=SCALE,description=name)\n",
    "    task.start()"
   ]
  },
  {
   "source": [
    "### Different Downloadpipeline"
   ],
   "cell_type": "markdown",
   "metadata": {}
  },
  {
   "cell_type": "code",
   "execution_count": null,
   "metadata": {},
   "outputs": [],
   "source": [
    "#create Dataframe with pandas\n",
    "df = pd.read_csv(csvpath)\n",
    "#create Dataframe where year is 2012 or higher\n",
    "df = df[df.year >= 2012]\n",
    "df = df[:10]\n",
    "for i in range(len(df)):\n",
    "    print(\"starting Task Nr: \" + str(i))\n",
    "    start_date,end_date = utils.surveyyear_to_range(df[year].iloc[i],satellitename='nl')\n",
    "    # get the VIIRS image collection, we're using the \"avg_rad\" band\n",
    "    dataset = ee.ImageCollection('NOAA/VIIRS/DNB/MONTHLY_V1/VCMCFG').filter(ee.Filter.date(start_date, end_date))\n",
    "    nighttime = dataset.select('avg_rad').median()\n",
    "    # get the coordinates based on the AOI\n",
    "    lat = float(df[LATNUM].iloc[i].replace(',', '.'))\n",
    "    lon = float(df[LONGNUM].iloc[i].replace(',', '.'))\n",
    "    aoi = ee.Geometry.Point(lon,lat)\n",
    "    coords = utils.point_to_box_coords(aoi=aoi,dimensionradius=IMAGE_DIMENSION)\n",
    "    name = df[surveyid].iloc[i]\n",
    "    path =nighttime.getDownloadUrl({\n",
    "        'name': name,  # name the file (otherwise it will be a uninterpretable hash)\n",
    "        'scale': SCALE,                              # resolution in meters\n",
    "        'crs': PROJECTION, \n",
    "        'region': coords                        # region defined above\n",
    "        })\n",
    "    print(path)\n",
    "    wget.download(path)\n",
    "    print(\"Unzipping \"+ name)\n",
    "    zipname = name + \".zip\"\n",
    "    with zipfile.ZipFile(zipname, 'r') as zip_ref:\n",
    "        zip_ref.extractall(path='../data')\n",
    "    if(zipstatus==9):\n",
    "        sys.exit(\"File exists:\"+ name)    \n",
    "## delete the zipped file (the unzipped version is kept)\n",
    "os.remove(name+\".zip\")\n",
    "print(output+' Finished!')"
   ]
  },
  {
   "cell_type": "code",
   "execution_count": null,
   "metadata": {},
   "outputs": [],
   "source": [
    "#create Dataframe with pandas\n",
    "df = pd.read_csv(csvpath)\n",
    "#create Dataframe where year is 2012 or higher\n",
    "df = df[df.year >= 2012]\n",
    "print(df)"
   ]
  }
 ]
}