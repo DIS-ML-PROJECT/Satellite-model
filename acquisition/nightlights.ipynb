{
 "metadata": {
  "language_info": {
   "codemirror_mode": {
    "name": "ipython",
    "version": 3
   },
   "file_extension": ".py",
   "mimetype": "text/x-python",
   "name": "python",
   "nbconvert_exporter": "python",
   "pygments_lexer": "ipython3",
   "version": "3.8.0"
  },
  "orig_nbformat": 2,
  "kernelspec": {
   "name": "python380jvsc74a57bd070d26f2264f7fe31f4c81ee0d745621efd984d696ceda4ad32e9609dbdcfd161",
   "display_name": "Python 3.8.10 64-bit"
  },
  "metadata": {
   "interpreter": {
    "hash": "70d26f2264f7fe31f4c81ee0d745621efd984d696ceda4ad32e9609dbdcfd161"
   }
  }
 },
 "nbformat": 4,
 "nbformat_minor": 2,
 "cells": [
  {
   "source": [
    "# Nightlight Satellite Image Export\n",
    "## Prerequisites\n",
    "### Input\n",
    "\n",
    "* CSV with 4 columns:\n",
    "    * ID\n",
    "    * year of survey\n",
    "    * Latitude-Coordinates\n",
    "    * Longitude-Coordinates\n",
    "\n",
    "### Execution\n",
    "\n",
    "1. create a pandas dataframe with all the information and delete all unnecessary entries (in our case it is all entries who are from 2011 or earlier)\n",
    "2. creation of a range of year in string format (yyyy-mm-dd) instead a year in integer format\n",
    "3. create a Featurecollection with all the information needed to get the correct images (Area of interest with a radius of 5.5 km)\n",
    "4. create an image with the Featurecollection and the median\n",
    "5. export them to google drive (there is no need for Authentication, it gets exported to the same account used for google earth engine)\n",
    "6. create a function which downloads all images instantly as long as there are not the same amount of images in the drive compared to the length of the dataframe."
   ],
   "cell_type": "markdown",
   "metadata": {}
  },
  {
   "cell_type": "code",
   "execution_count": 1,
   "metadata": {},
   "outputs": [],
   "source": [
    "import ee\n",
    "import pandas as pd\n",
    "from typing import Tuple\n",
    "import utils\n",
    "import geemap #Nur für Visualisierungzwecke im jetzigen Zustand, wird beim Export der Daten wieder entfernt"
   ]
  },
  {
   "cell_type": "code",
   "execution_count": 2,
   "metadata": {},
   "outputs": [],
   "source": [
    "#ee.Authenticate()\n",
    "ee.Initialize()"
   ]
  },
  {
   "cell_type": "code",
   "execution_count": 30,
   "metadata": {},
   "outputs": [],
   "source": [
    "#CONSTANTS\n",
    "#Path of CSV-File with columns ID,year,LATITUDE,LONGITUDE\n",
    "csvpath = '../dataResearch/firstSample.csv'\n",
    "#name all column names\n",
    "#year\n",
    "year = 'year'\n",
    "#Latitude and Longitude Coordinates\n",
    "LATNUM = 'LATNUM'\n",
    "LONGNUM= 'LONGNUM'\n",
    "#ID for Filenames\n",
    "surveyid = 'ID'\n",
    "#Export parameters\n",
    "DHS_EXPORT_FOLDER = 'dhs_tfrecords_raw'\n",
    "# image export parameters\n",
    "PROJECTION = 'EPSG:3857'  # see https://epsg.io/3857\n",
    "#1100 pixel times 10m equals 11000mx11000m image\n",
    "SCALE = 10                # export resolution: 10m/px\n",
    "IMAGE_DIMENSION = '1100'  #WIDTHxHEIGHT image dimension = 1100px * 10m = 11000m = 11km"
   ]
  },
  {
   "cell_type": "code",
   "execution_count": 33,
   "metadata": {},
   "outputs": [
    {
     "output_type": "error",
     "ename": "TypeError",
     "evalue": "surveyyear_to_range() got an unexpected keyword argument 'satellitename'",
     "traceback": [
      "\u001b[1;31m---------------------------------------------------------------------------\u001b[0m",
      "\u001b[1;31mTypeError\u001b[0m                                 Traceback (most recent call last)",
      "\u001b[1;32m<ipython-input-33-c981e457d53a>\u001b[0m in \u001b[0;36m<module>\u001b[1;34m\u001b[0m\n\u001b[0;32m      4\u001b[0m \u001b[0mdf\u001b[0m \u001b[1;33m=\u001b[0m \u001b[0mdf\u001b[0m\u001b[1;33m[\u001b[0m\u001b[0mdf\u001b[0m\u001b[1;33m.\u001b[0m\u001b[0myear\u001b[0m \u001b[1;33m>=\u001b[0m \u001b[1;36m2012\u001b[0m\u001b[1;33m]\u001b[0m\u001b[1;33m\u001b[0m\u001b[1;33m\u001b[0m\u001b[0m\n\u001b[0;32m      5\u001b[0m \u001b[1;32mfor\u001b[0m \u001b[0mi\u001b[0m \u001b[1;32min\u001b[0m \u001b[0mrange\u001b[0m\u001b[1;33m(\u001b[0m\u001b[1;36m5\u001b[0m\u001b[1;33m)\u001b[0m\u001b[1;33m:\u001b[0m\u001b[1;33m\u001b[0m\u001b[1;33m\u001b[0m\u001b[0m\n\u001b[1;32m----> 6\u001b[1;33m     \u001b[0mstart_date\u001b[0m\u001b[1;33m,\u001b[0m\u001b[0mend_date\u001b[0m \u001b[1;33m=\u001b[0m \u001b[0mutils\u001b[0m\u001b[1;33m.\u001b[0m\u001b[0msurveyyear_to_range\u001b[0m\u001b[1;33m(\u001b[0m\u001b[0mdf\u001b[0m\u001b[1;33m[\u001b[0m\u001b[0myear\u001b[0m\u001b[1;33m]\u001b[0m\u001b[1;33m.\u001b[0m\u001b[0miloc\u001b[0m\u001b[1;33m[\u001b[0m\u001b[0mi\u001b[0m\u001b[1;33m]\u001b[0m\u001b[1;33m,\u001b[0m\u001b[0msatellitename\u001b[0m\u001b[1;33m=\u001b[0m\u001b[1;34m'nl'\u001b[0m\u001b[1;33m)\u001b[0m\u001b[1;33m\u001b[0m\u001b[1;33m\u001b[0m\u001b[0m\n\u001b[0m\u001b[0;32m      7\u001b[0m     \u001b[1;31m# get the VIIRS image collection, we're using the \"avg_rad\" band\u001b[0m\u001b[1;33m\u001b[0m\u001b[1;33m\u001b[0m\u001b[1;33m\u001b[0m\u001b[0m\n\u001b[0;32m      8\u001b[0m     \u001b[0mdataset\u001b[0m \u001b[1;33m=\u001b[0m \u001b[0mee\u001b[0m\u001b[1;33m.\u001b[0m\u001b[0mImageCollection\u001b[0m\u001b[1;33m(\u001b[0m\u001b[1;34m'NOAA/VIIRS/DNB/MONTHLY_V1/VCMCFG'\u001b[0m\u001b[1;33m)\u001b[0m\u001b[1;33m.\u001b[0m\u001b[0mfilter\u001b[0m\u001b[1;33m(\u001b[0m\u001b[0mee\u001b[0m\u001b[1;33m.\u001b[0m\u001b[0mFilter\u001b[0m\u001b[1;33m.\u001b[0m\u001b[0mdate\u001b[0m\u001b[1;33m(\u001b[0m\u001b[0mstart_date\u001b[0m\u001b[1;33m,\u001b[0m \u001b[0mend_date\u001b[0m\u001b[1;33m)\u001b[0m\u001b[1;33m)\u001b[0m\u001b[1;33m\u001b[0m\u001b[1;33m\u001b[0m\u001b[0m\n",
      "\u001b[1;31mTypeError\u001b[0m: surveyyear_to_range() got an unexpected keyword argument 'satellitename'"
     ]
    }
   ],
   "source": [
    "#create Dataframe with pandas\n",
    "df = pd.read_csv(csvpath)\n",
    "#create Dataframe where year is 2012 or higher\n",
    "df = df[df.year >= 2012]\n",
    "for i in range(5):\n",
    "    start_date,end_date = utils.surveyyear_to_range(df[year].iloc[i],satellitename='nl')\n",
    "    # get the VIIRS image collection, we're using the \"avg_rad\" band\n",
    "    dataset = ee.ImageCollection('NOAA/VIIRS/DNB/MONTHLY_V1/VCMCFG').filter(ee.Filter.date(start_date, end_date))\n",
    "    nighttime = dataset.select('avg_rad').median()\n",
    "    # initialize map on AOI (here Sao Paolo)\n",
    "    lat = float(df[LATNUM].iloc[i].replace(',', '.'))\n",
    "    lon = float(df[LONGNUM].iloc[i].replace(',', '.'))\n",
    "    aoi = ee.Geometry.Point(lon,lat)\n",
    "    name = df[surveyid].iloc[i]\n",
    "    task = ee.batch.Export.image.toDrive(image=nighttime,region=aoi,folder=DHS_EXPORT_FOLDER,fileNamePrefix=name,scale=SCALE,description=name)\n",
    "    task.start()"
   ]
  },
  {
   "source": [
    "## Unten nur zur Sicherstellung Code, der die Images anzeigt:"
   ],
   "cell_type": "markdown",
   "metadata": {}
  },
  {
   "source": [
    "nighttimeVis = {min: 0.0, max: 60.0}\n",
    "Map = geemap.Map()\n",
    "Map.setCenter(lon, lat, 9)\n",
    "Map.addLayer(nighttime, nighttimeVis, 'Nighttime')\n",
    "Map"
   ],
   "cell_type": "code",
   "metadata": {},
   "execution_count": null,
   "outputs": []
  }
 ]
}