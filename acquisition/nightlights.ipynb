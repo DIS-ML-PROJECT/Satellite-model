{
 "metadata": {
  "language_info": {
   "codemirror_mode": {
    "name": "ipython",
    "version": 3
   },
   "file_extension": ".py",
   "mimetype": "text/x-python",
   "name": "python",
   "nbconvert_exporter": "python",
   "pygments_lexer": "ipython3",
   "version": "3.8.0"
  },
  "orig_nbformat": 2,
  "kernelspec": {
   "name": "python380jvsc74a57bd070d26f2264f7fe31f4c81ee0d745621efd984d696ceda4ad32e9609dbdcfd161",
   "display_name": "Python 3.8.0 64-bit"
  },
  "metadata": {
   "interpreter": {
    "hash": "70d26f2264f7fe31f4c81ee0d745621efd984d696ceda4ad32e9609dbdcfd161"
   }
  }
 },
 "nbformat": 4,
 "nbformat_minor": 2,
 "cells": [
  {
   "cell_type": "code",
   "execution_count": 3,
   "metadata": {},
   "outputs": [],
   "source": [
    "import ee\n",
    "import pandas as pd\n",
    "from typing import Tuple\n",
    "import utils\n",
    "import geemap #Nur für Visualisierungzwecke im jetzigen Zustand, wird beim Export der Daten wieder entfernt"
   ]
  },
  {
   "cell_type": "code",
   "execution_count": 4,
   "metadata": {},
   "outputs": [],
   "source": [
    "#ee.Authenticate()\n",
    "ee.Initialize()"
   ]
  },
  {
   "source": [
    "# Prerequisites\n",
    "## Input\n",
    "\n",
    "* CSV mit 3 Informationen\n",
    "    * Jahr der Survey\n",
    "    * Latitude-Coordinates\n",
    "    * Longitude-Coordinates\n",
    "\n",
    "## Durchführung\n",
    "\n",
    "1. Dataframe erstellen mit den 3 Informationen\n",
    "2. Umbauen der Years in Range im String-Format (yyyy-mm-dd)\n",
    "3. über das Dataframe iterieren\n",
    "4. mit den 3 Informationen die Images holen\n",
    "5. Median der Bilder erstellen\n",
    "6. to be continued"
   ],
   "cell_type": "markdown",
   "metadata": {}
  },
  {
   "cell_type": "code",
   "execution_count": 6,
   "metadata": {},
   "outputs": [],
   "source": [
    "#create Dataframe with pandas\n",
    "df = pd.read_csv('../data/dhs_wealthindex.csv')\n",
    "#create Dataframe where year is 2013 or higher\n",
    "df = df[df.year >= 2013]\n",
    "for i in range(len(df)):\n",
    "    start_date,end_date = utils.surveyyear_to_range(df['year'].iloc[i])\n",
    "    # get the VIIRS image collection, we're using the \"avg_rad\" band\n",
    "    dataset = ee.ImageCollection('NOAA/VIIRS/DNB/MONTHLY_V1/VCMCFG').filter(ee.Filter.date(start_date, end_date))\n",
    "    nighttime = dataset.select('avg_rad').median()\n",
    "    # initialize map on AOI (here Sao Paolo)\n",
    "    lat = df['LATNUM'].iloc[i]\n",
    "    lon = df['LONGNUM'].iloc[i]"
   ]
  },
  {
   "source": [
    "## Unten nur zur Sicherstellung Code, der die Images anzeigt:"
   ],
   "cell_type": "markdown",
   "metadata": {}
  },
  {
   "source": [
    "nighttimeVis = {min: 0.0, max: 60.0}\n",
    "Map = geemap.Map()\n",
    "Map.setCenter(lon, lat, 9)\n",
    "Map.addLayer(nighttime, nighttimeVis, 'Nighttime')\n",
    "Map"
   ],
   "cell_type": "code",
   "metadata": {},
   "execution_count": null,
   "outputs": []
  }
 ]
}