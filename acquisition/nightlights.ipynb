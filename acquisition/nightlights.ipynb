{
 "metadata": {
  "language_info": {
   "codemirror_mode": {
    "name": "ipython",
    "version": 3
   },
   "file_extension": ".py",
   "mimetype": "text/x-python",
   "name": "python",
   "nbconvert_exporter": "python",
   "pygments_lexer": "ipython3",
   "version": "3.8.0"
  },
  "orig_nbformat": 2,
  "kernelspec": {
   "name": "python380jvsc74a57bd070d26f2264f7fe31f4c81ee0d745621efd984d696ceda4ad32e9609dbdcfd161",
   "display_name": "Python 3.8.0 64-bit"
  },
  "metadata": {
   "interpreter": {
    "hash": "70d26f2264f7fe31f4c81ee0d745621efd984d696ceda4ad32e9609dbdcfd161"
   }
  }
 },
 "nbformat": 4,
 "nbformat_minor": 2,
 "cells": [
  {
   "cell_type": "markdown",
   "source": [
    "# Nightlight Satellite Image Export\r\n",
    "## Prerequisites\r\n",
    "### Input\r\n",
    "\r\n",
    "* CSV with 4 columns:\r\n",
    "    * ID\r\n",
    "    * year of survey\r\n",
    "    * Latitude-Coordinates\r\n",
    "    * Longitude-Coordinates\r\n",
    "\r\n",
    "### Execution\r\n",
    "#### main pipeline\r\n",
    "1. create a pandas dataframe with all the information and delete all unnecessary entries (in our case it is all entries who are from 2011 or earlier)\r\n",
    "2. creation of a range of year in string format (yyyy-mm-dd) instead a year in integer format\r\n",
    "3. create an image with the median\r\n",
    "4. get the areas of interest (AOI) with the Latitude and Longitude information in the dataframe\r\n",
    "5. export the image with predefined AOIs and dimensions\r\n",
    "    \r\n",
    "Google Documentary says 'To get a block of pixels of predefined size (for example a 256x256 thumbnail image) that covers a region, specify dimensions and region'"
   ],
   "metadata": {}
  },
  {
   "cell_type": "code",
   "execution_count": null,
   "source": [
    "import ee\r\n",
    "import pandas as pd\r\n",
    "from typing import Tuple\r\n",
    "import utils\r\n",
    "import time\r\n",
    "import wget\r\n",
    "import zipfile"
   ],
   "outputs": [],
   "metadata": {}
  },
  {
   "cell_type": "code",
   "execution_count": null,
   "source": [
    "#ee.Authenticate()\r\n",
    "ee.Initialize()"
   ],
   "outputs": [],
   "metadata": {}
  },
  {
   "cell_type": "code",
   "execution_count": null,
   "source": [
    "#CONSTANTS\r\n",
    "#Path of CSV-File with columns ID,year,LATITUDE,LONGITUDE\r\n",
    "csvpath = '../dataResearch/firstSample.csv'\r\n",
    "#name all column names\r\n",
    "#year\r\n",
    "year = 'year'\r\n",
    "#Latitude and Longitude Coordinates\r\n",
    "LATNUM = 'LATNUM'\r\n",
    "LONGNUM= 'LONGNUM'\r\n",
    "#ID for Filenames\r\n",
    "surveyid = 'ID'\r\n",
    "#Export parameters\r\n",
    "DRIVE_EXPORT_FOLDER = 'geotiff_raw'\r\n",
    "# image export parameters\r\n",
    "PROJECTION = 'EPSG:3857'  # see https://epsg.io/3857\r\n",
    "#1100 pixel times 10m equals 11000mx11000m image\r\n",
    "SCALE = 10                # export resolution: 10m/px\r\n",
    "IMAGE_DIMENSION = 5500  #radius of the wanted image in m"
   ],
   "outputs": [],
   "metadata": {}
  },
  {
   "cell_type": "code",
   "execution_count": null,
   "source": [
    "#create Dataframe with pandas\r\n",
    "df = pd.read_csv(csvpath)\r\n",
    "#create Dataframe where year is 2012 or higher\r\n",
    "df = df[df.year >= 2012]\r\n",
    "#iterate over the dataframe with the information about each cluster\r\n",
    "for i in range(len(df)):\r\n",
    "    #Google Earth Engine can only process 3000 Tasks at once, so we wait for the Earth Engine to finish the 2999 tasks and then start the next 2999\r\n",
    "    if i%2999 == 0:\r\n",
    "        input(\"Nächsten Bilder starten mit EINGABE/ENTER\")\r\n",
    "    print(\"starting Task Nr: \" + str(i))\r\n",
    "    #get the start- and enddates of the cluster out of the function in Utils-Script\r\n",
    "    start_date,end_date = utils.surveyyear_to_range(df[year].iloc[i],satellitename='nl')\r\n",
    "    # get the VIIRS image collection, we're using the \"avg_rad\" band\r\n",
    "    dataset = ee.ImageCollection('NOAA/VIIRS/DNB/MONTHLY_V1/VCMCFG').filter(ee.Filter.date(start_date, end_date))\r\n",
    "    nighttime = dataset.select('avg_rad').median()\r\n",
    "    # get the coordinates based on the AOI\r\n",
    "    lat = float(df[LATNUM].iloc[i].replace(',', '.'))\r\n",
    "    lon = float(df[LONGNUM].iloc[i].replace(',', '.'))\r\n",
    "    aoi = ee.Geometry.Point(lon,lat)\r\n",
    "    coords = utils.point_to_box_coords(aoi=aoi,dimensionradius=IMAGE_DIMENSION)\r\n",
    "    #get the name of the cluster for the filename\r\n",
    "    name = df[surveyid].iloc[i]\r\n",
    "    #create the task with the image, the region, where to save it, the filename,the scale and a description\r\n",
    "    task = ee.batch.Export.image.toDrive(image=nighttime,region=coords,folder=DRIVE_EXPORT_FOLDER,fileNamePrefix=name,scale=SCALE,description=name)\r\n",
    "    #start the task\r\n",
    "    task.start()"
   ],
   "outputs": [],
   "metadata": {}
  }
 ]
}